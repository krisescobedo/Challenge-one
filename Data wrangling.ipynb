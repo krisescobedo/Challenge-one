{
 "cells": [
  {
   "cell_type": "code",
   "execution_count": 1,
   "metadata": {},
   "outputs": [],
   "source": [
    "import pandas as pd\n",
    "import numpy as np"
   ]
  },
  {
   "cell_type": "code",
   "execution_count": 91,
   "metadata": {},
   "outputs": [],
   "source": [
    "properati = pd.read_csv(\"properatti.csv\")\n",
    "properati_csv = pd.read_csv(\"properatti.csv\")"
   ]
  },
  {
   "cell_type": "code",
   "execution_count": 48,
   "metadata": {
    "scrolled": false
   },
   "outputs": [
    {
     "data": {
      "text/plain": [
       "(121220, 26)"
      ]
     },
     "execution_count": 48,
     "metadata": {},
     "output_type": "execute_result"
    }
   ],
   "source": [
    "properati.shape"
   ]
  },
  {
   "cell_type": "code",
   "execution_count": 92,
   "metadata": {},
   "outputs": [],
   "source": [
    "#Se dropean columnas repetidas (Unnamed = Indice)\n",
    "properati.drop(columns=[\"Unnamed: 0\"], inplace=True) \n",
    "properati_csv.drop(columns=[\"Unnamed: 0\"], inplace=True)"
   ]
  },
  {
   "cell_type": "code",
   "execution_count": 93,
   "metadata": {},
   "outputs": [],
   "source": [
    "#lowearcassean los strings del df\n",
    "properati = properati.applymap(lambda x: x if type(x)!=str else x.lower())\n",
    "properati_csv = properati_csv.applymap(lambda x: x if type(x)!=str else x.lower())"
   ]
  },
  {
   "cell_type": "code",
   "execution_count": 29,
   "metadata": {
    "scrolled": true
   },
   "outputs": [
    {
     "data": {
      "text/html": [
       "<div>\n",
       "<style scoped>\n",
       "    .dataframe tbody tr th:only-of-type {\n",
       "        vertical-align: middle;\n",
       "    }\n",
       "\n",
       "    .dataframe tbody tr th {\n",
       "        vertical-align: top;\n",
       "    }\n",
       "\n",
       "    .dataframe thead th {\n",
       "        text-align: right;\n",
       "    }\n",
       "</style>\n",
       "<table border=\"1\" class=\"dataframe\">\n",
       "  <thead>\n",
       "    <tr style=\"text-align: right;\">\n",
       "      <th></th>\n",
       "      <th>operation</th>\n",
       "      <th>property_type</th>\n",
       "      <th>place_name</th>\n",
       "      <th>place_with_parent_names</th>\n",
       "      <th>country_name</th>\n",
       "      <th>state_name</th>\n",
       "      <th>geonames_id</th>\n",
       "      <th>lat-lon</th>\n",
       "      <th>lat</th>\n",
       "      <th>lon</th>\n",
       "      <th>...</th>\n",
       "      <th>surface_covered_in_m2</th>\n",
       "      <th>price_usd_per_m2</th>\n",
       "      <th>price_per_m2</th>\n",
       "      <th>floor</th>\n",
       "      <th>rooms</th>\n",
       "      <th>expenses</th>\n",
       "      <th>properati_url</th>\n",
       "      <th>description</th>\n",
       "      <th>title</th>\n",
       "      <th>image_thumbnail</th>\n",
       "    </tr>\n",
       "  </thead>\n",
       "  <tbody>\n",
       "    <tr>\n",
       "      <th>0</th>\n",
       "      <td>sell</td>\n",
       "      <td>ph</td>\n",
       "      <td>mataderos</td>\n",
       "      <td>|argentina|capital federal|mataderos|</td>\n",
       "      <td>argentina</td>\n",
       "      <td>capital federal</td>\n",
       "      <td>3430787.0</td>\n",
       "      <td>-34.6618237,-58.5088387</td>\n",
       "      <td>-34.661824</td>\n",
       "      <td>-58.508839</td>\n",
       "      <td>...</td>\n",
       "      <td>40.0</td>\n",
       "      <td>1127.272727</td>\n",
       "      <td>1550.0</td>\n",
       "      <td>NaN</td>\n",
       "      <td>NaN</td>\n",
       "      <td>NaN</td>\n",
       "      <td>http://www.properati.com.ar/15bo8_venta_ph_mat...</td>\n",
       "      <td>2 ambientes tipo casa planta baja por pasillo,...</td>\n",
       "      <td>2 amb tipo casa sin expensas en pb</td>\n",
       "      <td>https://thumbs4.properati.com/8/bluuyihjlhgiik...</td>\n",
       "    </tr>\n",
       "    <tr>\n",
       "      <th>1</th>\n",
       "      <td>sell</td>\n",
       "      <td>apartment</td>\n",
       "      <td>la plata</td>\n",
       "      <td>|argentina|bs.as. g.b.a. zona sur|la plata|</td>\n",
       "      <td>argentina</td>\n",
       "      <td>bs.as. g.b.a. zona sur</td>\n",
       "      <td>3432039.0</td>\n",
       "      <td>-34.9038831,-57.9643295</td>\n",
       "      <td>-34.903883</td>\n",
       "      <td>-57.964330</td>\n",
       "      <td>...</td>\n",
       "      <td>NaN</td>\n",
       "      <td>NaN</td>\n",
       "      <td>NaN</td>\n",
       "      <td>NaN</td>\n",
       "      <td>NaN</td>\n",
       "      <td>NaN</td>\n",
       "      <td>http://www.properati.com.ar/15bob_venta_depart...</td>\n",
       "      <td>venta de departamento en décimo piso al frente...</td>\n",
       "      <td>venta depto 2 dorm. a estrenar 7 e/ 36 y 37   ...</td>\n",
       "      <td>https://thumbs4.properati.com/7/ikpvbu2ztha7jv...</td>\n",
       "    </tr>\n",
       "  </tbody>\n",
       "</table>\n",
       "<p>2 rows × 25 columns</p>\n",
       "</div>"
      ],
      "text/plain": [
       "  operation property_type place_name  \\\n",
       "0      sell            ph  mataderos   \n",
       "1      sell     apartment   la plata   \n",
       "\n",
       "                       place_with_parent_names country_name  \\\n",
       "0        |argentina|capital federal|mataderos|    argentina   \n",
       "1  |argentina|bs.as. g.b.a. zona sur|la plata|    argentina   \n",
       "\n",
       "               state_name  geonames_id                  lat-lon        lat  \\\n",
       "0         capital federal    3430787.0  -34.6618237,-58.5088387 -34.661824   \n",
       "1  bs.as. g.b.a. zona sur    3432039.0  -34.9038831,-57.9643295 -34.903883   \n",
       "\n",
       "         lon  ...  surface_covered_in_m2 price_usd_per_m2  price_per_m2  \\\n",
       "0 -58.508839  ...                   40.0      1127.272727        1550.0   \n",
       "1 -57.964330  ...                    NaN              NaN           NaN   \n",
       "\n",
       "   floor  rooms  expenses                                      properati_url  \\\n",
       "0    NaN    NaN       NaN  http://www.properati.com.ar/15bo8_venta_ph_mat...   \n",
       "1    NaN    NaN       NaN  http://www.properati.com.ar/15bob_venta_depart...   \n",
       "\n",
       "                                         description  \\\n",
       "0  2 ambientes tipo casa planta baja por pasillo,...   \n",
       "1  venta de departamento en décimo piso al frente...   \n",
       "\n",
       "                                               title  \\\n",
       "0                 2 amb tipo casa sin expensas en pb   \n",
       "1  venta depto 2 dorm. a estrenar 7 e/ 36 y 37   ...   \n",
       "\n",
       "                                     image_thumbnail  \n",
       "0  https://thumbs4.properati.com/8/bluuyihjlhgiik...  \n",
       "1  https://thumbs4.properati.com/7/ikpvbu2ztha7jv...  \n",
       "\n",
       "[2 rows x 25 columns]"
      ]
     },
     "execution_count": 29,
     "metadata": {},
     "output_type": "execute_result"
    }
   ],
   "source": [
    "properati.head(2)"
   ]
  },
  {
   "cell_type": "code",
   "execution_count": 94,
   "metadata": {},
   "outputs": [],
   "source": [
    "#Todas las valores en \"operation\" figura como sell, se dropea la columna\n",
    "#properati[\"operation\"][properati2[\"operation\"]!=\"sell\"].sum() #0\n",
    "properati.drop(columns=[\"operation\"], inplace=True)\n",
    "properati_csv.drop(columns=[\"operation\"], inplace=True)"
   ]
  },
  {
   "cell_type": "code",
   "execution_count": null,
   "metadata": {},
   "outputs": [],
   "source": []
  },
  {
   "cell_type": "code",
   "execution_count": 73,
   "metadata": {},
   "outputs": [
    {
     "data": {
      "text/plain": [
       "(121220, 24)"
      ]
     },
     "execution_count": 73,
     "metadata": {},
     "output_type": "execute_result"
    }
   ],
   "source": [
    "#Se dropean las filas con descripccion repetidas\n",
    "#properati:121220 ; properati2: 104005  \n",
    "propearti = properati.drop_duplicates()\n",
    "properati.shape"
   ]
  },
  {
   "cell_type": "code",
   "execution_count": 74,
   "metadata": {},
   "outputs": [
    {
     "data": {
      "text/html": [
       "<div>\n",
       "<style scoped>\n",
       "    .dataframe tbody tr th:only-of-type {\n",
       "        vertical-align: middle;\n",
       "    }\n",
       "\n",
       "    .dataframe tbody tr th {\n",
       "        vertical-align: top;\n",
       "    }\n",
       "\n",
       "    .dataframe thead th {\n",
       "        text-align: right;\n",
       "    }\n",
       "</style>\n",
       "<table border=\"1\" class=\"dataframe\">\n",
       "  <thead>\n",
       "    <tr style=\"text-align: right;\">\n",
       "      <th></th>\n",
       "      <th>property_type</th>\n",
       "      <th>place_name</th>\n",
       "      <th>place_with_parent_names</th>\n",
       "      <th>country_name</th>\n",
       "      <th>state_name</th>\n",
       "      <th>geonames_id</th>\n",
       "      <th>lat-lon</th>\n",
       "      <th>lat</th>\n",
       "      <th>lon</th>\n",
       "      <th>price</th>\n",
       "      <th>...</th>\n",
       "      <th>surface_covered_in_m2</th>\n",
       "      <th>price_usd_per_m2</th>\n",
       "      <th>price_per_m2</th>\n",
       "      <th>floor</th>\n",
       "      <th>rooms</th>\n",
       "      <th>expenses</th>\n",
       "      <th>properati_url</th>\n",
       "      <th>description</th>\n",
       "      <th>title</th>\n",
       "      <th>image_thumbnail</th>\n",
       "    </tr>\n",
       "  </thead>\n",
       "  <tbody>\n",
       "    <tr>\n",
       "      <th>121215</th>\n",
       "      <td>apartment</td>\n",
       "      <td>belgrano</td>\n",
       "      <td>|argentina|capital federal|belgrano|</td>\n",
       "      <td>argentina</td>\n",
       "      <td>capital federal</td>\n",
       "      <td>3436077.0</td>\n",
       "      <td>NaN</td>\n",
       "      <td>NaN</td>\n",
       "      <td>NaN</td>\n",
       "      <td>870000.0</td>\n",
       "      <td>...</td>\n",
       "      <td>93.0</td>\n",
       "      <td>7699.115044</td>\n",
       "      <td>9354.838710</td>\n",
       "      <td>NaN</td>\n",
       "      <td>NaN</td>\n",
       "      <td>10000.0</td>\n",
       "      <td>http://www.properati.com.ar/1cja2_venta_depart...</td>\n",
       "      <td>torre forum alcorta - máxima categoría.impecab...</td>\n",
       "      <td>torre forum alcorta- impecable 3 ambientes</td>\n",
       "      <td>https://thumbs4.properati.com/1/bjms0knaanlnoq...</td>\n",
       "    </tr>\n",
       "    <tr>\n",
       "      <th>121216</th>\n",
       "      <td>house</td>\n",
       "      <td>beccar</td>\n",
       "      <td>|argentina|bs.as. g.b.a. zona norte|san isidro...</td>\n",
       "      <td>argentina</td>\n",
       "      <td>bs.as. g.b.a. zona norte</td>\n",
       "      <td>3436080.0</td>\n",
       "      <td>NaN</td>\n",
       "      <td>NaN</td>\n",
       "      <td>NaN</td>\n",
       "      <td>498000.0</td>\n",
       "      <td>...</td>\n",
       "      <td>360.0</td>\n",
       "      <td>1383.333333</td>\n",
       "      <td>1383.333333</td>\n",
       "      <td>NaN</td>\n",
       "      <td>NaN</td>\n",
       "      <td>NaN</td>\n",
       "      <td>http://www.properati.com.ar/1cja6_venta_casa_b...</td>\n",
       "      <td>excelente e impecable casa en venta en las lom...</td>\n",
       "      <td>ruca inmuebles | venta | lomas de san isidro |...</td>\n",
       "      <td>https://thumbs4.properati.com/2/pcc3wuqdjpnzc4...</td>\n",
       "    </tr>\n",
       "    <tr>\n",
       "      <th>121217</th>\n",
       "      <td>apartment</td>\n",
       "      <td>villa urquiza</td>\n",
       "      <td>|argentina|capital federal|villa urquiza|</td>\n",
       "      <td>argentina</td>\n",
       "      <td>capital federal</td>\n",
       "      <td>3433775.0</td>\n",
       "      <td>-34.5706388726,-58.4755963355</td>\n",
       "      <td>-34.570639</td>\n",
       "      <td>-58.475596</td>\n",
       "      <td>131500.0</td>\n",
       "      <td>...</td>\n",
       "      <td>39.0</td>\n",
       "      <td>2858.695652</td>\n",
       "      <td>3371.794872</td>\n",
       "      <td>NaN</td>\n",
       "      <td>NaN</td>\n",
       "      <td>NaN</td>\n",
       "      <td>http://www.properati.com.ar/1cja7_venta_depart...</td>\n",
       "      <td>venta departamento ambiente divisible a estren...</td>\n",
       "      <td>venta departamento ambiente divisible a estren...</td>\n",
       "      <td>https://thumbs4.properati.com/9/yae_-2grvykadp...</td>\n",
       "    </tr>\n",
       "    <tr>\n",
       "      <th>121218</th>\n",
       "      <td>apartment</td>\n",
       "      <td>plaza colón</td>\n",
       "      <td>|argentina|buenos aires costa atlántica|mar de...</td>\n",
       "      <td>argentina</td>\n",
       "      <td>buenos aires costa atlántica</td>\n",
       "      <td>NaN</td>\n",
       "      <td>NaN</td>\n",
       "      <td>NaN</td>\n",
       "      <td>NaN</td>\n",
       "      <td>95900.0</td>\n",
       "      <td>...</td>\n",
       "      <td>48.0</td>\n",
       "      <td>1997.916667</td>\n",
       "      <td>1997.916667</td>\n",
       "      <td>NaN</td>\n",
       "      <td>NaN</td>\n",
       "      <td>NaN</td>\n",
       "      <td>http://www.properati.com.ar/1cja8_venta_depart...</td>\n",
       "      <td>2 amb al contrafrente,  luminoso. el departame...</td>\n",
       "      <td>2 amb. c/ dep. de servicio al contrafrente| re...</td>\n",
       "      <td>https://thumbs4.properati.com/8/q12ptvu6bqj0ib...</td>\n",
       "    </tr>\n",
       "    <tr>\n",
       "      <th>121219</th>\n",
       "      <td>apartment</td>\n",
       "      <td>capital federal</td>\n",
       "      <td>|argentina|capital federal|</td>\n",
       "      <td>argentina</td>\n",
       "      <td>capital federal</td>\n",
       "      <td>3433955.0</td>\n",
       "      <td>NaN</td>\n",
       "      <td>NaN</td>\n",
       "      <td>NaN</td>\n",
       "      <td>129000.0</td>\n",
       "      <td>...</td>\n",
       "      <td>77.0</td>\n",
       "      <td>1675.324675</td>\n",
       "      <td>1675.324675</td>\n",
       "      <td>NaN</td>\n",
       "      <td>NaN</td>\n",
       "      <td>3500.0</td>\n",
       "      <td>http://www.properati.com.ar/1cjaa_venta_depart...</td>\n",
       "      <td>departamento de 77 m2 apto profesional. edific...</td>\n",
       "      <td>departamento apto profesional en el centro</td>\n",
       "      <td>https://thumbs4.properati.com/8/mnesnqwqb7jobf...</td>\n",
       "    </tr>\n",
       "  </tbody>\n",
       "</table>\n",
       "<p>5 rows × 24 columns</p>\n",
       "</div>"
      ],
      "text/plain": [
       "       property_type       place_name  \\\n",
       "121215     apartment         belgrano   \n",
       "121216         house           beccar   \n",
       "121217     apartment    villa urquiza   \n",
       "121218     apartment      plaza colón   \n",
       "121219     apartment  capital federal   \n",
       "\n",
       "                                  place_with_parent_names country_name  \\\n",
       "121215               |argentina|capital federal|belgrano|    argentina   \n",
       "121216  |argentina|bs.as. g.b.a. zona norte|san isidro...    argentina   \n",
       "121217          |argentina|capital federal|villa urquiza|    argentina   \n",
       "121218  |argentina|buenos aires costa atlántica|mar de...    argentina   \n",
       "121219                        |argentina|capital federal|    argentina   \n",
       "\n",
       "                          state_name  geonames_id  \\\n",
       "121215               capital federal    3436077.0   \n",
       "121216      bs.as. g.b.a. zona norte    3436080.0   \n",
       "121217               capital federal    3433775.0   \n",
       "121218  buenos aires costa atlántica          NaN   \n",
       "121219               capital federal    3433955.0   \n",
       "\n",
       "                              lat-lon        lat        lon     price  ...  \\\n",
       "121215                            NaN        NaN        NaN  870000.0  ...   \n",
       "121216                            NaN        NaN        NaN  498000.0  ...   \n",
       "121217  -34.5706388726,-58.4755963355 -34.570639 -58.475596  131500.0  ...   \n",
       "121218                            NaN        NaN        NaN   95900.0  ...   \n",
       "121219                            NaN        NaN        NaN  129000.0  ...   \n",
       "\n",
       "       surface_covered_in_m2  price_usd_per_m2  price_per_m2  floor  rooms  \\\n",
       "121215                  93.0       7699.115044   9354.838710    NaN    NaN   \n",
       "121216                 360.0       1383.333333   1383.333333    NaN    NaN   \n",
       "121217                  39.0       2858.695652   3371.794872    NaN    NaN   \n",
       "121218                  48.0       1997.916667   1997.916667    NaN    NaN   \n",
       "121219                  77.0       1675.324675   1675.324675    NaN    NaN   \n",
       "\n",
       "        expenses                                      properati_url  \\\n",
       "121215   10000.0  http://www.properati.com.ar/1cja2_venta_depart...   \n",
       "121216       NaN  http://www.properati.com.ar/1cja6_venta_casa_b...   \n",
       "121217       NaN  http://www.properati.com.ar/1cja7_venta_depart...   \n",
       "121218       NaN  http://www.properati.com.ar/1cja8_venta_depart...   \n",
       "121219    3500.0  http://www.properati.com.ar/1cjaa_venta_depart...   \n",
       "\n",
       "                                              description  \\\n",
       "121215  torre forum alcorta - máxima categoría.impecab...   \n",
       "121216  excelente e impecable casa en venta en las lom...   \n",
       "121217  venta departamento ambiente divisible a estren...   \n",
       "121218  2 amb al contrafrente,  luminoso. el departame...   \n",
       "121219  departamento de 77 m2 apto profesional. edific...   \n",
       "\n",
       "                                                    title  \\\n",
       "121215         torre forum alcorta- impecable 3 ambientes   \n",
       "121216  ruca inmuebles | venta | lomas de san isidro |...   \n",
       "121217  venta departamento ambiente divisible a estren...   \n",
       "121218  2 amb. c/ dep. de servicio al contrafrente| re...   \n",
       "121219         departamento apto profesional en el centro   \n",
       "\n",
       "                                          image_thumbnail  \n",
       "121215  https://thumbs4.properati.com/1/bjms0knaanlnoq...  \n",
       "121216  https://thumbs4.properati.com/2/pcc3wuqdjpnzc4...  \n",
       "121217  https://thumbs4.properati.com/9/yae_-2grvykadp...  \n",
       "121218  https://thumbs4.properati.com/8/q12ptvu6bqj0ib...  \n",
       "121219  https://thumbs4.properati.com/8/mnesnqwqb7jobf...  \n",
       "\n",
       "[5 rows x 24 columns]"
      ]
     },
     "execution_count": 74,
     "metadata": {},
     "output_type": "execute_result"
    }
   ],
   "source": [
    "properati.tail(5)   # el drop_duplicates no sirvio un carajo"
   ]
  },
  {
   "cell_type": "code",
   "execution_count": null,
   "metadata": {},
   "outputs": [],
   "source": []
  },
  {
   "cell_type": "code",
   "execution_count": 13,
   "metadata": {
    "scrolled": true
   },
   "outputs": [],
   "source": []
  },
  {
   "cell_type": "code",
   "execution_count": 34,
   "metadata": {},
   "outputs": [
    {
     "data": {
      "text/plain": [
       "1"
      ]
     },
     "execution_count": 34,
     "metadata": {},
     "output_type": "execute_result"
    }
   ],
   "source": [
    "#mascara booleana que indica que no hay currency nan con valor en price\n",
    "(properati['currency'].isna() & ~properati['price'].isna()).sum()"
   ]
  },
  {
   "cell_type": "code",
   "execution_count": 49,
   "metadata": {},
   "outputs": [],
   "source": [
    "#TAREA: properati2[[\"price\",\"currency\",\"price_aprox_usd\",\"price_usd_per_m2\",\"price_per_m2\",\"price_aprox_local_currency\"]]"
   ]
  },
  {
   "cell_type": "code",
   "execution_count": null,
   "metadata": {},
   "outputs": [],
   "source": []
  },
  {
   "cell_type": "code",
   "execution_count": null,
   "metadata": {},
   "outputs": [],
   "source": [
    "------------------------------- Pesos a Dolares ----------------------------------"
   ]
  },
  {
   "cell_type": "code",
   "execution_count": null,
   "metadata": {},
   "outputs": [],
   "source": [
    "#Convertir los precios en pesos a dolares\n",
    "# len(properati[\"price\"][properati[\"currency\"]==\"ars\"])          # Precios en ars = 13219"
   ]
  },
  {
   "cell_type": "code",
   "execution_count": 112,
   "metadata": {},
   "outputs": [],
   "source": [
    "#Convertir los precios en pesos a dolares\n",
    "\n",
    "#Inferi mal por que no tuve en cuenta el tipo de cambio en el momento de la publicacion\n",
    "#properati[\"price\"][properati[\"currency\"]==\"ars\"] = properati[\"price\"][properati[\"currency\"]==\"ars\"].apply(lambda x: x/55)"
   ]
  },
  {
   "cell_type": "code",
   "execution_count": 76,
   "metadata": {},
   "outputs": [],
   "source": [
    "#properati[\"price\"] = np.around(properati[\"price\"])"
   ]
  },
  {
   "cell_type": "code",
   "execution_count": 97,
   "metadata": {
    "scrolled": true
   },
   "outputs": [
    {
     "data": {
      "text/html": [
       "<div>\n",
       "<style scoped>\n",
       "    .dataframe tbody tr th:only-of-type {\n",
       "        vertical-align: middle;\n",
       "    }\n",
       "\n",
       "    .dataframe tbody tr th {\n",
       "        vertical-align: top;\n",
       "    }\n",
       "\n",
       "    .dataframe thead th {\n",
       "        text-align: right;\n",
       "    }\n",
       "</style>\n",
       "<table border=\"1\" class=\"dataframe\">\n",
       "  <thead>\n",
       "    <tr style=\"text-align: right;\">\n",
       "      <th></th>\n",
       "      <th>price</th>\n",
       "      <th>price_aprox_usd</th>\n",
       "    </tr>\n",
       "  </thead>\n",
       "  <tbody>\n",
       "    <tr>\n",
       "      <th>9</th>\n",
       "      <td>460000.0</td>\n",
       "      <td>25798.49</td>\n",
       "    </tr>\n",
       "    <tr>\n",
       "      <th>32</th>\n",
       "      <td>550000.0</td>\n",
       "      <td>30846.02</td>\n",
       "    </tr>\n",
       "    <tr>\n",
       "      <th>37</th>\n",
       "      <td>1250000.0</td>\n",
       "      <td>70104.59</td>\n",
       "    </tr>\n",
       "    <tr>\n",
       "      <th>78</th>\n",
       "      <td>5500000.0</td>\n",
       "      <td>308460.22</td>\n",
       "    </tr>\n",
       "    <tr>\n",
       "      <th>97</th>\n",
       "      <td>1423800.0</td>\n",
       "      <td>79851.93</td>\n",
       "    </tr>\n",
       "    <tr>\n",
       "      <th>99</th>\n",
       "      <td>850000.0</td>\n",
       "      <td>47671.12</td>\n",
       "    </tr>\n",
       "    <tr>\n",
       "      <th>122</th>\n",
       "      <td>2600000.0</td>\n",
       "      <td>145817.55</td>\n",
       "    </tr>\n",
       "    <tr>\n",
       "      <th>128</th>\n",
       "      <td>1250000.0</td>\n",
       "      <td>70104.59</td>\n",
       "    </tr>\n",
       "    <tr>\n",
       "      <th>130</th>\n",
       "      <td>1111111.0</td>\n",
       "      <td>62315.19</td>\n",
       "    </tr>\n",
       "    <tr>\n",
       "      <th>154</th>\n",
       "      <td>1200000.0</td>\n",
       "      <td>67300.41</td>\n",
       "    </tr>\n",
       "    <tr>\n",
       "      <th>168</th>\n",
       "      <td>2500000.0</td>\n",
       "      <td>140209.19</td>\n",
       "    </tr>\n",
       "    <tr>\n",
       "      <th>169</th>\n",
       "      <td>1760000.0</td>\n",
       "      <td>98707.27</td>\n",
       "    </tr>\n",
       "    <tr>\n",
       "      <th>174</th>\n",
       "      <td>1473950.0</td>\n",
       "      <td>82664.53</td>\n",
       "    </tr>\n",
       "    <tr>\n",
       "      <th>212</th>\n",
       "      <td>820000.0</td>\n",
       "      <td>45988.61</td>\n",
       "    </tr>\n",
       "    <tr>\n",
       "      <th>213</th>\n",
       "      <td>1200000.0</td>\n",
       "      <td>67300.41</td>\n",
       "    </tr>\n",
       "    <tr>\n",
       "      <th>232</th>\n",
       "      <td>1298000.0</td>\n",
       "      <td>72796.61</td>\n",
       "    </tr>\n",
       "    <tr>\n",
       "      <th>233</th>\n",
       "      <td>2272000.0</td>\n",
       "      <td>127422.11</td>\n",
       "    </tr>\n",
       "    <tr>\n",
       "      <th>265</th>\n",
       "      <td>1250000.0</td>\n",
       "      <td>70104.59</td>\n",
       "    </tr>\n",
       "    <tr>\n",
       "      <th>307</th>\n",
       "      <td>825000.0</td>\n",
       "      <td>46269.03</td>\n",
       "    </tr>\n",
       "    <tr>\n",
       "      <th>309</th>\n",
       "      <td>1500000.0</td>\n",
       "      <td>84125.51</td>\n",
       "    </tr>\n",
       "    <tr>\n",
       "      <th>331</th>\n",
       "      <td>2550000.0</td>\n",
       "      <td>143013.37</td>\n",
       "    </tr>\n",
       "    <tr>\n",
       "      <th>351</th>\n",
       "      <td>1099350.0</td>\n",
       "      <td>61655.59</td>\n",
       "    </tr>\n",
       "    <tr>\n",
       "      <th>352</th>\n",
       "      <td>1113420.0</td>\n",
       "      <td>62444.68</td>\n",
       "    </tr>\n",
       "    <tr>\n",
       "      <th>353</th>\n",
       "      <td>1127700.0</td>\n",
       "      <td>63245.56</td>\n",
       "    </tr>\n",
       "    <tr>\n",
       "      <th>354</th>\n",
       "      <td>1141980.0</td>\n",
       "      <td>64046.43</td>\n",
       "    </tr>\n",
       "    <tr>\n",
       "      <th>355</th>\n",
       "      <td>1327515.0</td>\n",
       "      <td>74451.92</td>\n",
       "    </tr>\n",
       "    <tr>\n",
       "      <th>356</th>\n",
       "      <td>1344630.0</td>\n",
       "      <td>75411.79</td>\n",
       "    </tr>\n",
       "    <tr>\n",
       "      <th>357</th>\n",
       "      <td>1361745.0</td>\n",
       "      <td>76371.66</td>\n",
       "    </tr>\n",
       "    <tr>\n",
       "      <th>358</th>\n",
       "      <td>1105545.0</td>\n",
       "      <td>62003.02</td>\n",
       "    </tr>\n",
       "    <tr>\n",
       "      <th>359</th>\n",
       "      <td>1120035.0</td>\n",
       "      <td>62815.68</td>\n",
       "    </tr>\n",
       "    <tr>\n",
       "      <th>...</th>\n",
       "      <td>...</td>\n",
       "      <td>...</td>\n",
       "    </tr>\n",
       "    <tr>\n",
       "      <th>121177</th>\n",
       "      <td>1427000.0</td>\n",
       "      <td>80031.40</td>\n",
       "    </tr>\n",
       "    <tr>\n",
       "      <th>121178</th>\n",
       "      <td>1432000.0</td>\n",
       "      <td>80311.82</td>\n",
       "    </tr>\n",
       "    <tr>\n",
       "      <th>121179</th>\n",
       "      <td>1459000.0</td>\n",
       "      <td>81826.08</td>\n",
       "    </tr>\n",
       "    <tr>\n",
       "      <th>121180</th>\n",
       "      <td>1459000.0</td>\n",
       "      <td>81826.08</td>\n",
       "    </tr>\n",
       "    <tr>\n",
       "      <th>121181</th>\n",
       "      <td>1438000.0</td>\n",
       "      <td>80648.32</td>\n",
       "    </tr>\n",
       "    <tr>\n",
       "      <th>121182</th>\n",
       "      <td>1411000.0</td>\n",
       "      <td>79134.06</td>\n",
       "    </tr>\n",
       "    <tr>\n",
       "      <th>121183</th>\n",
       "      <td>1470000.0</td>\n",
       "      <td>82443.00</td>\n",
       "    </tr>\n",
       "    <tr>\n",
       "      <th>121184</th>\n",
       "      <td>1454000.0</td>\n",
       "      <td>81545.66</td>\n",
       "    </tr>\n",
       "    <tr>\n",
       "      <th>121185</th>\n",
       "      <td>1454000.0</td>\n",
       "      <td>81545.66</td>\n",
       "    </tr>\n",
       "    <tr>\n",
       "      <th>121186</th>\n",
       "      <td>1465000.0</td>\n",
       "      <td>82162.58</td>\n",
       "    </tr>\n",
       "    <tr>\n",
       "      <th>121187</th>\n",
       "      <td>1471000.0</td>\n",
       "      <td>82499.08</td>\n",
       "    </tr>\n",
       "    <tr>\n",
       "      <th>121188</th>\n",
       "      <td>1471000.0</td>\n",
       "      <td>82499.08</td>\n",
       "    </tr>\n",
       "    <tr>\n",
       "      <th>121189</th>\n",
       "      <td>2678000.0</td>\n",
       "      <td>150192.08</td>\n",
       "    </tr>\n",
       "    <tr>\n",
       "      <th>121190</th>\n",
       "      <td>2714000.0</td>\n",
       "      <td>152211.09</td>\n",
       "    </tr>\n",
       "    <tr>\n",
       "      <th>121191</th>\n",
       "      <td>1482000.0</td>\n",
       "      <td>83116.00</td>\n",
       "    </tr>\n",
       "    <tr>\n",
       "      <th>121192</th>\n",
       "      <td>1482000.0</td>\n",
       "      <td>83116.00</td>\n",
       "    </tr>\n",
       "    <tr>\n",
       "      <th>121193</th>\n",
       "      <td>1859000.0</td>\n",
       "      <td>104259.55</td>\n",
       "    </tr>\n",
       "    <tr>\n",
       "      <th>121194</th>\n",
       "      <td>1487000.0</td>\n",
       "      <td>83396.42</td>\n",
       "    </tr>\n",
       "    <tr>\n",
       "      <th>121195</th>\n",
       "      <td>1487000.0</td>\n",
       "      <td>83396.42</td>\n",
       "    </tr>\n",
       "    <tr>\n",
       "      <th>121196</th>\n",
       "      <td>1497000.0</td>\n",
       "      <td>83957.26</td>\n",
       "    </tr>\n",
       "    <tr>\n",
       "      <th>121197</th>\n",
       "      <td>1497000.0</td>\n",
       "      <td>83957.26</td>\n",
       "    </tr>\n",
       "    <tr>\n",
       "      <th>121198</th>\n",
       "      <td>1492000.0</td>\n",
       "      <td>83676.84</td>\n",
       "    </tr>\n",
       "    <tr>\n",
       "      <th>121199</th>\n",
       "      <td>1502000.0</td>\n",
       "      <td>84237.68</td>\n",
       "    </tr>\n",
       "    <tr>\n",
       "      <th>121200</th>\n",
       "      <td>1498000.0</td>\n",
       "      <td>84013.34</td>\n",
       "    </tr>\n",
       "    <tr>\n",
       "      <th>121201</th>\n",
       "      <td>1498000.0</td>\n",
       "      <td>84013.34</td>\n",
       "    </tr>\n",
       "    <tr>\n",
       "      <th>121202</th>\n",
       "      <td>1507000.0</td>\n",
       "      <td>84518.10</td>\n",
       "    </tr>\n",
       "    <tr>\n",
       "      <th>121203</th>\n",
       "      <td>1502000.0</td>\n",
       "      <td>84237.68</td>\n",
       "    </tr>\n",
       "    <tr>\n",
       "      <th>121204</th>\n",
       "      <td>1502000.0</td>\n",
       "      <td>84237.68</td>\n",
       "    </tr>\n",
       "    <tr>\n",
       "      <th>121205</th>\n",
       "      <td>1507000.0</td>\n",
       "      <td>84518.10</td>\n",
       "    </tr>\n",
       "    <tr>\n",
       "      <th>121206</th>\n",
       "      <td>1507000.0</td>\n",
       "      <td>84518.10</td>\n",
       "    </tr>\n",
       "  </tbody>\n",
       "</table>\n",
       "<p>13219 rows × 2 columns</p>\n",
       "</div>"
      ],
      "text/plain": [
       "            price  price_aprox_usd\n",
       "9        460000.0         25798.49\n",
       "32       550000.0         30846.02\n",
       "37      1250000.0         70104.59\n",
       "78      5500000.0        308460.22\n",
       "97      1423800.0         79851.93\n",
       "99       850000.0         47671.12\n",
       "122     2600000.0        145817.55\n",
       "128     1250000.0         70104.59\n",
       "130     1111111.0         62315.19\n",
       "154     1200000.0         67300.41\n",
       "168     2500000.0        140209.19\n",
       "169     1760000.0         98707.27\n",
       "174     1473950.0         82664.53\n",
       "212      820000.0         45988.61\n",
       "213     1200000.0         67300.41\n",
       "232     1298000.0         72796.61\n",
       "233     2272000.0        127422.11\n",
       "265     1250000.0         70104.59\n",
       "307      825000.0         46269.03\n",
       "309     1500000.0         84125.51\n",
       "331     2550000.0        143013.37\n",
       "351     1099350.0         61655.59\n",
       "352     1113420.0         62444.68\n",
       "353     1127700.0         63245.56\n",
       "354     1141980.0         64046.43\n",
       "355     1327515.0         74451.92\n",
       "356     1344630.0         75411.79\n",
       "357     1361745.0         76371.66\n",
       "358     1105545.0         62003.02\n",
       "359     1120035.0         62815.68\n",
       "...           ...              ...\n",
       "121177  1427000.0         80031.40\n",
       "121178  1432000.0         80311.82\n",
       "121179  1459000.0         81826.08\n",
       "121180  1459000.0         81826.08\n",
       "121181  1438000.0         80648.32\n",
       "121182  1411000.0         79134.06\n",
       "121183  1470000.0         82443.00\n",
       "121184  1454000.0         81545.66\n",
       "121185  1454000.0         81545.66\n",
       "121186  1465000.0         82162.58\n",
       "121187  1471000.0         82499.08\n",
       "121188  1471000.0         82499.08\n",
       "121189  2678000.0        150192.08\n",
       "121190  2714000.0        152211.09\n",
       "121191  1482000.0         83116.00\n",
       "121192  1482000.0         83116.00\n",
       "121193  1859000.0        104259.55\n",
       "121194  1487000.0         83396.42\n",
       "121195  1487000.0         83396.42\n",
       "121196  1497000.0         83957.26\n",
       "121197  1497000.0         83957.26\n",
       "121198  1492000.0         83676.84\n",
       "121199  1502000.0         84237.68\n",
       "121200  1498000.0         84013.34\n",
       "121201  1498000.0         84013.34\n",
       "121202  1507000.0         84518.10\n",
       "121203  1502000.0         84237.68\n",
       "121204  1502000.0         84237.68\n",
       "121205  1507000.0         84518.10\n",
       "121206  1507000.0         84518.10\n",
       "\n",
       "[13219 rows x 2 columns]"
      ]
     },
     "execution_count": 97,
     "metadata": {},
     "output_type": "execute_result"
    }
   ],
   "source": [
    "precios_pesos = properati[\"price\"][properati[\"currency\"]==\"ars\"]\n",
    "properati[[\"price\",\"price_aprox_usd\"]][properati[\"currency\"]==\"ars\"]\n"
   ]
  },
  {
   "cell_type": "code",
   "execution_count": 113,
   "metadata": {},
   "outputs": [
    {
     "name": "stderr",
     "output_type": "stream",
     "text": [
      "C:\\Users\\Kristian\\Anaconda3\\lib\\site-packages\\ipykernel_launcher.py:2: SettingWithCopyWarning: \n",
      "A value is trying to be set on a copy of a slice from a DataFrame\n",
      "\n",
      "See the caveats in the documentation: http://pandas.pydata.org/pandas-docs/stable/indexing.html#indexing-view-versus-copy\n",
      "  \n"
     ]
    }
   ],
   "source": [
    "#precios q se infieren a dolares por medio de la columna \"price_aprox_usd\"\n",
    "properati[\"price\"][properati[\"currency\"]==\"ars\"] = properati[\"price_aprox_usd\"][properati[\"currency\"]==\"ars\"]\n"
   ]
  },
  {
   "cell_type": "code",
   "execution_count": 107,
   "metadata": {},
   "outputs": [],
   "source": [
    "properati[\"price\"] = np.around(properati[\"price\"],1)"
   ]
  },
  {
   "cell_type": "code",
   "execution_count": null,
   "metadata": {},
   "outputs": [],
   "source": [
    "------------------------------- Pesos a Dolares ----------------------------------"
   ]
  },
  {
   "cell_type": "code",
   "execution_count": null,
   "metadata": {},
   "outputs": [],
   "source": []
  },
  {
   "cell_type": "code",
   "execution_count": null,
   "metadata": {},
   "outputs": [],
   "source": [
    "########## Pienso\n",
    "#(properati[\"currency\"].isna() & ~(properati[\"price\"].isna())).sum()  #= 1    ##cuanto precios con valor y currencys nan hay"
   ]
  },
  {
   "cell_type": "code",
   "execution_count": 117,
   "metadata": {},
   "outputs": [],
   "source": [
    "#properati[\"currency\"][properati[\"price_aprox_usd\"][properati[\"currency\"]==\"ars\"]] = \"ars\""
   ]
  },
  {
   "cell_type": "code",
   "execution_count": 123,
   "metadata": {},
   "outputs": [],
   "source": [
    "### dropearia la columna currency"
   ]
  },
  {
   "cell_type": "code",
   "execution_count": 132,
   "metadata": {
    "scrolled": true
   },
   "outputs": [
    {
     "data": {
      "text/html": [
       "<div>\n",
       "<style scoped>\n",
       "    .dataframe tbody tr th:only-of-type {\n",
       "        vertical-align: middle;\n",
       "    }\n",
       "\n",
       "    .dataframe tbody tr th {\n",
       "        vertical-align: top;\n",
       "    }\n",
       "\n",
       "    .dataframe thead th {\n",
       "        text-align: right;\n",
       "    }\n",
       "</style>\n",
       "<table border=\"1\" class=\"dataframe\">\n",
       "  <thead>\n",
       "    <tr style=\"text-align: right;\">\n",
       "      <th></th>\n",
       "      <th>price</th>\n",
       "      <th>price_aprox_local_currency</th>\n",
       "      <th>price_aprox_usd</th>\n",
       "      <th>price_usd_per_m2</th>\n",
       "      <th>price_per_m2</th>\n",
       "    </tr>\n",
       "  </thead>\n",
       "  <tbody>\n",
       "    <tr>\n",
       "      <th>85967</th>\n",
       "      <td>124344.33</td>\n",
       "      <td>2193993.53</td>\n",
       "      <td>124344.33</td>\n",
       "      <td>3360.657568</td>\n",
       "      <td>66445.090909</td>\n",
       "    </tr>\n",
       "  </tbody>\n",
       "</table>\n",
       "</div>"
      ],
      "text/plain": [
       "           price  price_aprox_local_currency  price_aprox_usd  \\\n",
       "85967  124344.33                  2193993.53        124344.33   \n",
       "\n",
       "       price_usd_per_m2  price_per_m2  \n",
       "85967       3360.657568  66445.090909  "
      ]
     },
     "execution_count": 132,
     "metadata": {},
     "output_type": "execute_result"
    }
   ],
   "source": [
    "# No se pueden inferir precios por preciosxm2, pero si se pueden inferir \"price_usd_per_m2\" por el precio\n",
    "properati[[\"price\",\"price_aprox_local_currency\",\"price_aprox_usd\",\"price_usd_per_m2\",\"price_per_m2\"]].sample(1)"
   ]
  },
  {
   "cell_type": "code",
   "execution_count": null,
   "metadata": {},
   "outputs": [],
   "source": []
  },
  {
   "cell_type": "code",
   "execution_count": null,
   "metadata": {},
   "outputs": [],
   "source": []
  },
  {
   "cell_type": "code",
   "execution_count": null,
   "metadata": {},
   "outputs": [],
   "source": []
  },
  {
   "cell_type": "code",
   "execution_count": null,
   "metadata": {},
   "outputs": [],
   "source": []
  },
  {
   "cell_type": "code",
   "execution_count": null,
   "metadata": {},
   "outputs": [],
   "source": []
  },
  {
   "cell_type": "code",
   "execution_count": 109,
   "metadata": {},
   "outputs": [
    {
     "ename": "SyntaxError",
     "evalue": "invalid syntax (<ipython-input-109-7569014ba3f3>, line 1)",
     "output_type": "error",
     "traceback": [
      "\u001b[1;36m  File \u001b[1;32m\"<ipython-input-109-7569014ba3f3>\"\u001b[1;36m, line \u001b[1;32m1\u001b[0m\n\u001b[1;33m    properati[\"currency\"][(properati[\"currency\"]=\"ars\") & ~(properati[\"price_aprox_usd\"].isna())] = \"usd\"\u001b[0m\n\u001b[1;37m                                                ^\u001b[0m\n\u001b[1;31mSyntaxError\u001b[0m\u001b[1;31m:\u001b[0m invalid syntax\n"
     ]
    }
   ],
   "source": [
    "properati[\"currency\"][(properati[\"currency\"]=\"ars\") & ~(properati[\"price_aprox_usd\"].isna())] = \"usd\""
   ]
  },
  {
   "cell_type": "code",
   "execution_count": 35,
   "metadata": {
    "scrolled": false
   },
   "outputs": [],
   "source": [
    "df_pesos = properati[\"price\"][properati[\"currency\"]==\"ars\"]\n",
    "df_pesos = np.around(df_pesos/55)"
   ]
  },
  {
   "cell_type": "code",
   "execution_count": 95,
   "metadata": {
    "scrolled": false
   },
   "outputs": [
    {
     "data": {
      "text/plain": [
       "property_type                                                             house\n",
       "place_name                                                              rosario\n",
       "place_with_parent_names                            |argentina|santa fe|rosario|\n",
       "country_name                                                          argentina\n",
       "state_name                                                             santa fe\n",
       "geonames_id                                                         3.83857e+06\n",
       "lat-lon                                                  -32.942031,-60.7259192\n",
       "lat                                                                     -32.942\n",
       "lon                                                                    -60.7259\n",
       "price                                                                    460000\n",
       "currency                                                                    ars\n",
       "price_aprox_local_currency                                               455201\n",
       "price_aprox_usd                                                         25798.5\n",
       "surface_total_in_m2                                                         NaN\n",
       "surface_covered_in_m2                                                       NaN\n",
       "price_usd_per_m2                                                            NaN\n",
       "price_per_m2                                                                NaN\n",
       "floor                                                                       NaN\n",
       "rooms                                                                       NaN\n",
       "expenses                                                                    NaN\n",
       "properati_url                 http://www.properati.com.ar/15box_venta_casa_r...\n",
       "description                   mednoza al 7600a una cuadra de calle mendozawh...\n",
       "title                                white 7637 - 2 dormitorios con patio      \n",
       "image_thumbnail               https://thumbs4.properati.com/8/rcf1yewdf4rv98...\n",
       "Name: 9, dtype: object"
      ]
     },
     "execution_count": 95,
     "metadata": {},
     "output_type": "execute_result"
    }
   ],
   "source": [
    "properati_csv.iloc[9,:]"
   ]
  },
  {
   "cell_type": "code",
   "execution_count": 116,
   "metadata": {
    "scrolled": false
   },
   "outputs": [
    {
     "data": {
      "text/plain": [
       "property_type                                                             house\n",
       "place_name                                                              rosario\n",
       "place_with_parent_names                            |argentina|santa fe|rosario|\n",
       "country_name                                                          argentina\n",
       "state_name                                                             santa fe\n",
       "geonames_id                                                         3.83857e+06\n",
       "lat-lon                                                  -32.942031,-60.7259192\n",
       "lat                                                                     -32.942\n",
       "lon                                                                    -60.7259\n",
       "price                                                                   25798.5\n",
       "currency                                                                    ars\n",
       "price_aprox_local_currency                                               455201\n",
       "price_aprox_usd                                                         25798.5\n",
       "surface_total_in_m2                                                         NaN\n",
       "surface_covered_in_m2                                                       NaN\n",
       "price_usd_per_m2                                                            NaN\n",
       "price_per_m2                                                                NaN\n",
       "floor                                                                       NaN\n",
       "rooms                                                                       NaN\n",
       "expenses                                                                    NaN\n",
       "properati_url                 http://www.properati.com.ar/15box_venta_casa_r...\n",
       "description                   mednoza al 7600a una cuadra de calle mendozawh...\n",
       "title                                white 7637 - 2 dormitorios con patio      \n",
       "image_thumbnail               https://thumbs4.properati.com/8/rcf1yewdf4rv98...\n",
       "Name: 9, dtype: object"
      ]
     },
     "execution_count": 116,
     "metadata": {},
     "output_type": "execute_result"
    }
   ],
   "source": [
    "properati.iloc[9,:]"
   ]
  },
  {
   "cell_type": "code",
   "execution_count": 104,
   "metadata": {
    "scrolled": true
   },
   "outputs": [
    {
     "data": {
      "text/plain": [
       "9          460000.0\n",
       "32         550000.0\n",
       "37        1250000.0\n",
       "78        5500000.0\n",
       "97        1423800.0\n",
       "99         850000.0\n",
       "122       2600000.0\n",
       "128       1250000.0\n",
       "130       1111111.0\n",
       "154       1200000.0\n",
       "168       2500000.0\n",
       "169       1760000.0\n",
       "174       1473950.0\n",
       "212        820000.0\n",
       "213       1200000.0\n",
       "232       1298000.0\n",
       "233       2272000.0\n",
       "265       1250000.0\n",
       "307        825000.0\n",
       "309       1500000.0\n",
       "331       2550000.0\n",
       "351       1099350.0\n",
       "352       1113420.0\n",
       "353       1127700.0\n",
       "354       1141980.0\n",
       "355       1327515.0\n",
       "356       1344630.0\n",
       "357       1361745.0\n",
       "358       1105545.0\n",
       "359       1120035.0\n",
       "            ...    \n",
       "121177    1427000.0\n",
       "121178    1432000.0\n",
       "121179    1459000.0\n",
       "121180    1459000.0\n",
       "121181    1438000.0\n",
       "121182    1411000.0\n",
       "121183    1470000.0\n",
       "121184    1454000.0\n",
       "121185    1454000.0\n",
       "121186    1465000.0\n",
       "121187    1471000.0\n",
       "121188    1471000.0\n",
       "121189    2678000.0\n",
       "121190    2714000.0\n",
       "121191    1482000.0\n",
       "121192    1482000.0\n",
       "121193    1859000.0\n",
       "121194    1487000.0\n",
       "121195    1487000.0\n",
       "121196    1497000.0\n",
       "121197    1497000.0\n",
       "121198    1492000.0\n",
       "121199    1502000.0\n",
       "121200    1498000.0\n",
       "121201    1498000.0\n",
       "121202    1507000.0\n",
       "121203    1502000.0\n",
       "121204    1502000.0\n",
       "121205    1507000.0\n",
       "121206    1507000.0\n",
       "Name: price, Length: 13219, dtype: float64"
      ]
     },
     "execution_count": 104,
     "metadata": {},
     "output_type": "execute_result"
    }
   ],
   "source": [
    "precios_pesos"
   ]
  },
  {
   "cell_type": "code",
   "execution_count": 114,
   "metadata": {
    "scrolled": true
   },
   "outputs": [
    {
     "data": {
      "text/plain": [
       "0          62000.00\n",
       "1         150000.00\n",
       "2          72000.00\n",
       "3          95000.00\n",
       "4          64000.00\n",
       "5               NaN\n",
       "6         130000.00\n",
       "7         138000.00\n",
       "8         195000.00\n",
       "9          25798.49\n",
       "10         70000.00\n",
       "11        150000.00\n",
       "12        115000.00\n",
       "13        111700.00\n",
       "14        147900.00\n",
       "15        250000.00\n",
       "16        239000.00\n",
       "17        315000.00\n",
       "18        570000.00\n",
       "19        350000.00\n",
       "20              NaN\n",
       "21        270500.00\n",
       "22        290000.00\n",
       "23         82000.00\n",
       "24        355000.00\n",
       "25        358550.00\n",
       "26        265000.00\n",
       "27        650000.00\n",
       "28        362150.00\n",
       "29         75000.00\n",
       "            ...    \n",
       "121190    152211.09\n",
       "121191     83116.00\n",
       "121192     83116.00\n",
       "121193    104259.55\n",
       "121194     83396.42\n",
       "121195     83396.42\n",
       "121196     83957.26\n",
       "121197     83957.26\n",
       "121198     83676.84\n",
       "121199     84237.68\n",
       "121200     84013.34\n",
       "121201     84013.34\n",
       "121202     84518.10\n",
       "121203     84237.68\n",
       "121204     84237.68\n",
       "121205     84518.10\n",
       "121206     84518.10\n",
       "121207          NaN\n",
       "121208          NaN\n",
       "121209    410000.00\n",
       "121210          NaN\n",
       "121211          NaN\n",
       "121212          NaN\n",
       "121213          NaN\n",
       "121214          NaN\n",
       "121215    870000.00\n",
       "121216    498000.00\n",
       "121217    131500.00\n",
       "121218     95900.00\n",
       "121219    129000.00\n",
       "Name: price, Length: 121220, dtype: float64"
      ]
     },
     "execution_count": 114,
     "metadata": {},
     "output_type": "execute_result"
    }
   ],
   "source": [
    "properati[\"price\"]"
   ]
  },
  {
   "cell_type": "code",
   "execution_count": null,
   "metadata": {},
   "outputs": [],
   "source": [
    "------------------------------- Pesos a Dolares ----------------------------------"
   ]
  },
  {
   "cell_type": "code",
   "execution_count": null,
   "metadata": {},
   "outputs": [],
   "source": []
  },
  {
   "cell_type": "code",
   "execution_count": null,
   "metadata": {},
   "outputs": [],
   "source": [
    "--------------------------------- Precio per m2 -----------------------------------------"
   ]
  },
  {
   "cell_type": "code",
   "execution_count": 73,
   "metadata": {},
   "outputs": [
    {
     "data": {
      "text/plain": [
       "price_per_m2           27779\n",
       "price                  15888\n",
       "surface_total_in_m2    35505\n",
       "dtype: int64"
      ]
     },
     "execution_count": 73,
     "metadata": {},
     "output_type": "execute_result"
    }
   ],
   "source": [
    "#se identifican \"price_per_m2\" nulos posibles de completar\n",
    "#properati2.loc[17433,\"price_per_m2\"]\n",
    "properati2[[\"price_per_m2\",\"price\",\"surface_total_in_m2\"]].isna().sum()"
   ]
  },
  {
   "cell_type": "code",
   "execution_count": 72,
   "metadata": {},
   "outputs": [
    {
     "data": {
      "text/html": [
       "<div>\n",
       "<style scoped>\n",
       "    .dataframe tbody tr th:only-of-type {\n",
       "        vertical-align: middle;\n",
       "    }\n",
       "\n",
       "    .dataframe tbody tr th {\n",
       "        vertical-align: top;\n",
       "    }\n",
       "\n",
       "    .dataframe thead th {\n",
       "        text-align: right;\n",
       "    }\n",
       "</style>\n",
       "<table border=\"1\" class=\"dataframe\">\n",
       "  <thead>\n",
       "    <tr style=\"text-align: right;\">\n",
       "      <th></th>\n",
       "      <th>price_per_m2</th>\n",
       "      <th>price</th>\n",
       "      <th>surface_total_in_m2</th>\n",
       "    </tr>\n",
       "  </thead>\n",
       "  <tbody>\n",
       "    <tr>\n",
       "      <th>59755</th>\n",
       "      <td>2363.636364</td>\n",
       "      <td>130000.0</td>\n",
       "      <td>NaN</td>\n",
       "    </tr>\n",
       "    <tr>\n",
       "      <th>96354</th>\n",
       "      <td>857.142857</td>\n",
       "      <td>300000.0</td>\n",
       "      <td>350.0</td>\n",
       "    </tr>\n",
       "    <tr>\n",
       "      <th>97927</th>\n",
       "      <td>1928.934010</td>\n",
       "      <td>380000.0</td>\n",
       "      <td>233.0</td>\n",
       "    </tr>\n",
       "    <tr>\n",
       "      <th>57734</th>\n",
       "      <td>3437.500000</td>\n",
       "      <td>165000.0</td>\n",
       "      <td>60.0</td>\n",
       "    </tr>\n",
       "    <tr>\n",
       "      <th>100197</th>\n",
       "      <td>NaN</td>\n",
       "      <td>NaN</td>\n",
       "      <td>37.0</td>\n",
       "    </tr>\n",
       "    <tr>\n",
       "      <th>24962</th>\n",
       "      <td>1222.222222</td>\n",
       "      <td>550000.0</td>\n",
       "      <td>1200.0</td>\n",
       "    </tr>\n",
       "    <tr>\n",
       "      <th>120787</th>\n",
       "      <td>NaN</td>\n",
       "      <td>NaN</td>\n",
       "      <td>70.0</td>\n",
       "    </tr>\n",
       "    <tr>\n",
       "      <th>55067</th>\n",
       "      <td>1545.454545</td>\n",
       "      <td>340000.0</td>\n",
       "      <td>NaN</td>\n",
       "    </tr>\n",
       "    <tr>\n",
       "      <th>49096</th>\n",
       "      <td>NaN</td>\n",
       "      <td>115000.0</td>\n",
       "      <td>NaN</td>\n",
       "    </tr>\n",
       "    <tr>\n",
       "      <th>12798</th>\n",
       "      <td>NaN</td>\n",
       "      <td>65000.0</td>\n",
       "      <td>40.0</td>\n",
       "    </tr>\n",
       "  </tbody>\n",
       "</table>\n",
       "</div>"
      ],
      "text/plain": [
       "        price_per_m2     price  surface_total_in_m2\n",
       "59755    2363.636364  130000.0                  NaN\n",
       "96354     857.142857  300000.0                350.0\n",
       "97927    1928.934010  380000.0                233.0\n",
       "57734    3437.500000  165000.0                 60.0\n",
       "100197           NaN       NaN                 37.0\n",
       "24962    1222.222222  550000.0               1200.0\n",
       "120787           NaN       NaN                 70.0\n",
       "55067    1545.454545  340000.0                  NaN\n",
       "49096            NaN  115000.0                  NaN\n",
       "12798            NaN   65000.0                 40.0"
      ]
     },
     "execution_count": 72,
     "metadata": {},
     "output_type": "execute_result"
    }
   ],
   "source": [
    "properati2[[\"price_per_m2\",\"price\",\"surface_total_in_m2\"]].sample(10)"
   ]
  },
  {
   "cell_type": "code",
   "execution_count": null,
   "metadata": {},
   "outputs": [],
   "source": []
  },
  {
   "cell_type": "code",
   "execution_count": 100,
   "metadata": {},
   "outputs": [
    {
     "data": {
      "text/plain": [
       "21991"
      ]
     },
     "execution_count": 100,
     "metadata": {},
     "output_type": "execute_result"
    }
   ],
   "source": [
    "#Mascara \"price\"=1 , \"price_per_m2\"=1 , \"surface_total_in_m2\"=0\n",
    "(properati2[\"price\"].notna() & properati2[\"price_per_m2\"].notna() & properati2[\"surface_total_in_m2\"].isna()).sum()"
   ]
  },
  {
   "cell_type": "code",
   "execution_count": 107,
   "metadata": {},
   "outputs": [
    {
     "data": {
      "text/html": [
       "<div>\n",
       "<style scoped>\n",
       "    .dataframe tbody tr th:only-of-type {\n",
       "        vertical-align: middle;\n",
       "    }\n",
       "\n",
       "    .dataframe tbody tr th {\n",
       "        vertical-align: top;\n",
       "    }\n",
       "\n",
       "    .dataframe thead th {\n",
       "        text-align: right;\n",
       "    }\n",
       "</style>\n",
       "<table border=\"1\" class=\"dataframe\">\n",
       "  <thead>\n",
       "    <tr style=\"text-align: right;\">\n",
       "      <th></th>\n",
       "      <th>price</th>\n",
       "      <th>price_per_m2</th>\n",
       "      <th>surface_total_in_m2</th>\n",
       "    </tr>\n",
       "  </thead>\n",
       "  <tbody>\n",
       "    <tr>\n",
       "      <th>68342</th>\n",
       "      <td>200000.0</td>\n",
       "      <td>884.955752</td>\n",
       "      <td>NaN</td>\n",
       "    </tr>\n",
       "    <tr>\n",
       "      <th>119680</th>\n",
       "      <td>136000.0</td>\n",
       "      <td>1373.737374</td>\n",
       "      <td>NaN</td>\n",
       "    </tr>\n",
       "    <tr>\n",
       "      <th>88210</th>\n",
       "      <td>2900000.0</td>\n",
       "      <td>22307.692308</td>\n",
       "      <td>NaN</td>\n",
       "    </tr>\n",
       "    <tr>\n",
       "      <th>41066</th>\n",
       "      <td>135000.0</td>\n",
       "      <td>2410.714286</td>\n",
       "      <td>NaN</td>\n",
       "    </tr>\n",
       "    <tr>\n",
       "      <th>27212</th>\n",
       "      <td>1400000.0</td>\n",
       "      <td>10000.000000</td>\n",
       "      <td>NaN</td>\n",
       "    </tr>\n",
       "  </tbody>\n",
       "</table>\n",
       "</div>"
      ],
      "text/plain": [
       "            price  price_per_m2  surface_total_in_m2\n",
       "68342    200000.0    884.955752                  NaN\n",
       "119680   136000.0   1373.737374                  NaN\n",
       "88210   2900000.0  22307.692308                  NaN\n",
       "41066    135000.0   2410.714286                  NaN\n",
       "27212   1400000.0  10000.000000                  NaN"
      ]
     },
     "execution_count": 107,
     "metadata": {},
     "output_type": "execute_result"
    }
   ],
   "source": [
    "properati2[[\"price\",\"price_per_m2\",\"surface_total_in_m2\"]][properati2[\"price\"].notna() \\\n",
    "                                                           & properati2[\"price_per_m2\"].notna() \\\n",
    "                                                           & properati2[\"surface_total_in_m2\"].isna()].sample(5)"
   ]
  },
  {
   "cell_type": "code",
   "execution_count": null,
   "metadata": {},
   "outputs": [],
   "source": [
    "properati2[[surface_total_in_m2\"]][properati2[\"price\"].notna() \\\n",
    "                                                           & properati2[\"price_per_m2\"].notna() \\\n",
    "                                                           & properati2[\"surface_total_in_m2\"].isna()]"
   ]
  },
  {
   "cell_type": "code",
   "execution_count": null,
   "metadata": {},
   "outputs": [],
   "source": [
    "--------------------------------- Precio per m2 -----------------------------------------"
   ]
  },
  {
   "cell_type": "code",
   "execution_count": null,
   "metadata": {},
   "outputs": [],
   "source": []
  },
  {
   "cell_type": "code",
   "execution_count": null,
   "metadata": {},
   "outputs": [],
   "source": []
  },
  {
   "cell_type": "code",
   "execution_count": null,
   "metadata": {},
   "outputs": [],
   "source": []
  },
  {
   "cell_type": "code",
   "execution_count": null,
   "metadata": {},
   "outputs": [],
   "source": []
  },
  {
   "cell_type": "code",
   "execution_count": null,
   "metadata": {},
   "outputs": [],
   "source": []
  },
  {
   "cell_type": "code",
   "execution_count": null,
   "metadata": {},
   "outputs": [],
   "source": []
  },
  {
   "cell_type": "code",
   "execution_count": null,
   "metadata": {},
   "outputs": [],
   "source": []
  },
  {
   "cell_type": "code",
   "execution_count": null,
   "metadata": {},
   "outputs": [],
   "source": []
  },
  {
   "cell_type": "code",
   "execution_count": null,
   "metadata": {},
   "outputs": [],
   "source": []
  },
  {
   "cell_type": "code",
   "execution_count": null,
   "metadata": {},
   "outputs": [],
   "source": []
  },
  {
   "cell_type": "code",
   "execution_count": null,
   "metadata": {},
   "outputs": [],
   "source": []
  },
  {
   "cell_type": "code",
   "execution_count": null,
   "metadata": {},
   "outputs": [],
   "source": []
  },
  {
   "cell_type": "code",
   "execution_count": null,
   "metadata": {},
   "outputs": [],
   "source": []
  },
  {
   "cell_type": "code",
   "execution_count": null,
   "metadata": {},
   "outputs": [],
   "source": []
  },
  {
   "cell_type": "code",
   "execution_count": null,
   "metadata": {},
   "outputs": [],
   "source": [
    "#Se indentifica gran cantidad de datos expuestos en la descripccion del inmueble pero que no estan detallados en \n",
    "#su respectiva casilla del dataframe\n",
    "\n",
    "#En algunos casos el currency figura en la descripcion        !!!Regex \"currency\":  u$s , us "
   ]
  },
  {
   "cell_type": "code",
   "execution_count": null,
   "metadata": {},
   "outputs": [],
   "source": [
    "# En algunos casos el currency figura en la descripcion        !!!Regex \"currency\":  u$s , us \n",
    "properati2[\"description\"][properati2[\"currency\"].isna()]"
   ]
  },
  {
   "cell_type": "code",
   "execution_count": null,
   "metadata": {},
   "outputs": [],
   "source": []
  },
  {
   "cell_type": "code",
   "execution_count": 125,
   "metadata": {},
   "outputs": [
    {
     "data": {
      "text/html": [
       "<div>\n",
       "<style scoped>\n",
       "    .dataframe tbody tr th:only-of-type {\n",
       "        vertical-align: middle;\n",
       "    }\n",
       "\n",
       "    .dataframe tbody tr th {\n",
       "        vertical-align: top;\n",
       "    }\n",
       "\n",
       "    .dataframe thead th {\n",
       "        text-align: right;\n",
       "    }\n",
       "</style>\n",
       "<table border=\"1\" class=\"dataframe\">\n",
       "  <thead>\n",
       "    <tr style=\"text-align: right;\">\n",
       "      <th></th>\n",
       "      <th>price</th>\n",
       "      <th>currency</th>\n",
       "    </tr>\n",
       "  </thead>\n",
       "  <tbody>\n",
       "    <tr>\n",
       "      <th>5</th>\n",
       "      <td>NaN</td>\n",
       "      <td>NaN</td>\n",
       "    </tr>\n",
       "    <tr>\n",
       "      <th>20</th>\n",
       "      <td>NaN</td>\n",
       "      <td>NaN</td>\n",
       "    </tr>\n",
       "    <tr>\n",
       "      <th>41</th>\n",
       "      <td>NaN</td>\n",
       "      <td>NaN</td>\n",
       "    </tr>\n",
       "    <tr>\n",
       "      <th>62</th>\n",
       "      <td>NaN</td>\n",
       "      <td>NaN</td>\n",
       "    </tr>\n",
       "    <tr>\n",
       "      <th>67</th>\n",
       "      <td>NaN</td>\n",
       "      <td>NaN</td>\n",
       "    </tr>\n",
       "  </tbody>\n",
       "</table>\n",
       "</div>"
      ],
      "text/plain": [
       "    price currency\n",
       "5     NaN      NaN\n",
       "20    NaN      NaN\n",
       "41    NaN      NaN\n",
       "62    NaN      NaN\n",
       "67    NaN      NaN"
      ]
     },
     "execution_count": 125,
     "metadata": {},
     "output_type": "execute_result"
    }
   ],
   "source": [
    "# 9926ars + 78225usd + 15902na\n",
    "properati2[[\"price\",\"currency\"]][properati2[\"currency\"].isna()].head()"
   ]
  },
  {
   "cell_type": "code",
   "execution_count": 141,
   "metadata": {
    "scrolled": true
   },
   "outputs": [
    {
     "data": {
      "text/html": [
       "<div>\n",
       "<style scoped>\n",
       "    .dataframe tbody tr th:only-of-type {\n",
       "        vertical-align: middle;\n",
       "    }\n",
       "\n",
       "    .dataframe tbody tr th {\n",
       "        vertical-align: top;\n",
       "    }\n",
       "\n",
       "    .dataframe thead th {\n",
       "        text-align: right;\n",
       "    }\n",
       "</style>\n",
       "<table border=\"1\" class=\"dataframe\">\n",
       "  <thead>\n",
       "    <tr style=\"text-align: right;\">\n",
       "      <th></th>\n",
       "      <th>currency</th>\n",
       "      <th>price_aprox_usd</th>\n",
       "    </tr>\n",
       "  </thead>\n",
       "  <tbody>\n",
       "  </tbody>\n",
       "</table>\n",
       "</div>"
      ],
      "text/plain": [
       "Empty DataFrame\n",
       "Columns: [currency, price_aprox_usd]\n",
       "Index: []"
      ]
     },
     "execution_count": 141,
     "metadata": {},
     "output_type": "execute_result"
    }
   ],
   "source": [
    "#Verifico si el el currency lo puedo extraer del precio perm2\n",
    "#properati2[[\"price\",\"currency\",\"price_aprox_usd\",\"price_usd_per_m2\",\"price_aprox_local_currency\",\"price_per_m2\"]]\n",
    "#No hay currencys que se puedan sacar por precio aprox\n",
    "properati2[[\"currency\",\"price_aprox_usd\"]][properati2[\"currency\"].isna()& ~(properati2['price_aprox_usd'].isna())]"
   ]
  },
  {
   "cell_type": "code",
   "execution_count": 143,
   "metadata": {},
   "outputs": [
    {
     "data": {
      "text/plain": [
       "0"
      ]
     },
     "execution_count": 143,
     "metadata": {},
     "output_type": "execute_result"
    }
   ],
   "source": [
    "(properati2[\"currency\"].isna()& ~(properati2['price_aprox_usd'].isna())).sum()\n",
    "\n",
    "#Epic lane"
   ]
  },
  {
   "cell_type": "code",
   "execution_count": 145,
   "metadata": {},
   "outputs": [
    {
     "data": {
      "text/plain": [
       "0"
      ]
     },
     "execution_count": 145,
     "metadata": {},
     "output_type": "execute_result"
    }
   ],
   "source": [
    "(properati2[\"currency\"].isna()& ~(properati2['price_aprox_local_currency'].isna())).sum()"
   ]
  },
  {
   "cell_type": "code",
   "execution_count": 147,
   "metadata": {
    "scrolled": true
   },
   "outputs": [
    {
     "data": {
      "text/plain": [
       "0"
      ]
     },
     "execution_count": 147,
     "metadata": {},
     "output_type": "execute_result"
    }
   ],
   "source": [
    "(properati2[\"currency\"].isna()& ~(properati2['price_aprox_usd'].isna())).sum()"
   ]
  },
  {
   "cell_type": "code",
   "execution_count": null,
   "metadata": {},
   "outputs": [],
   "source": [
    "#Las anteriores lineas demuestran que no puedo inferir la currency viendo dichas columnas"
   ]
  },
  {
   "cell_type": "code",
   "execution_count": null,
   "metadata": {},
   "outputs": [],
   "source": []
  },
  {
   "cell_type": "code",
   "execution_count": null,
   "metadata": {},
   "outputs": [],
   "source": [
    "\n",
    "properati2[\"description\"][properati2[\"description\"]]"
   ]
  },
  {
   "cell_type": "code",
   "execution_count": null,
   "metadata": {},
   "outputs": [],
   "source": []
  },
  {
   "cell_type": "code",
   "execution_count": null,
   "metadata": {},
   "outputs": [],
   "source": []
  },
  {
   "cell_type": "code",
   "execution_count": null,
   "metadata": {},
   "outputs": [],
   "source": []
  },
  {
   "cell_type": "code",
   "execution_count": null,
   "metadata": {},
   "outputs": [],
   "source": []
  },
  {
   "cell_type": "code",
   "execution_count": null,
   "metadata": {},
   "outputs": [],
   "source": []
  },
  {
   "cell_type": "code",
   "execution_count": null,
   "metadata": {},
   "outputs": [],
   "source": []
  },
  {
   "cell_type": "code",
   "execution_count": null,
   "metadata": {},
   "outputs": [],
   "source": [
    "#20410 anuncios sin precio y no figura en \"description\", justamente son las viviendas con operation: \"sell\"\n",
    "\n",
    "\n",
    "properati2[[\"price\",\"currency\",\"price_aprox_usd\",\"price_usd_per_m2\",\"price_per_m2\",\"operation\"]][properati2[[\"price\",\"description\",\"currency\",\"price_aprox_usd\",\"price_usd_per_m2\",\"price_per_m2\"]].isnull().all(1)]"
   ]
  }
 ],
 "metadata": {
  "kernelspec": {
   "display_name": "Python 3",
   "language": "python",
   "name": "python3"
  },
  "language_info": {
   "codemirror_mode": {
    "name": "ipython",
    "version": 3
   },
   "file_extension": ".py",
   "mimetype": "text/x-python",
   "name": "python",
   "nbconvert_exporter": "python",
   "pygments_lexer": "ipython3",
   "version": "3.7.3"
  }
 },
 "nbformat": 4,
 "nbformat_minor": 2
}
